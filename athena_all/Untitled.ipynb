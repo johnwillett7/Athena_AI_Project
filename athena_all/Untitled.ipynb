{
 "cells": [
  {
   "cell_type": "code",
   "execution_count": 2,
   "metadata": {},
   "outputs": [],
   "source": [
    "import numpy as np\n",
    "import math"
   ]
  },
  {
   "cell_type": "code",
   "execution_count": 29,
   "metadata": {},
   "outputs": [],
   "source": [
    "w = 3\n",
    "d = 2\n",
    "\n",
    "prob_in = (d ** 2) * math.pi / (4 * w ** 2)\n",
    "\n",
    "NUM = 10000000\n",
    "xs = np.random.random(NUM)\n",
    "berns = xs < prob_in"
   ]
  },
  {
   "cell_type": "code",
   "execution_count": 30,
   "metadata": {},
   "outputs": [
    {
     "data": {
      "text/plain": [
       "3.1410530999999997"
      ]
     },
     "execution_count": 30,
     "metadata": {},
     "output_type": "execute_result"
    }
   ],
   "source": [
    "(4 * w ** 2) / (d ** 2) * (1/NUM) * np.sum(berns)"
   ]
  },
  {
   "cell_type": "code",
   "execution_count": 35,
   "metadata": {},
   "outputs": [
    {
     "name": "stdout",
     "output_type": "stream",
     "text": [
      "var with w = 2: 0.16734374999999996\n",
      "3.1500000000000004\n",
      "\n",
      "var with w = 3: 0.22588190999999996\n",
      "3.1023000000000005\n",
      "\n",
      "var with w = 4: 0.15837271000000003\n",
      "3.1568\n",
      "\n",
      "var with w = 5: 0.10651056000000003\n",
      "3.0300000000000002\n",
      "\n",
      "var with w = 6: 0.08075004000000001\n",
      "3.1896000000000004\n",
      "\n",
      "var with w = 7: 0.05841871000000001\n",
      "3.0526999999999997\n",
      "\n",
      "var with w = 8: 0.04533424000000001\n",
      "3.0464\n",
      "\n",
      "var with w = 9: 0.040052760000000014\n",
      "3.3857999999999997\n",
      "\n",
      "var with w = 10: 0.031163160000000006\n",
      "3.22\n",
      "\n",
      "var with w = 11: 0.023328790000000002\n",
      "2.8919\n",
      "\n",
      "var with w = 12: 0.022375590000000004\n",
      "3.2976\n",
      "\n",
      "var with w = 13: 0.02027151\n",
      "3.4983000000000004\n",
      "\n",
      "var with w = 14: 0.01467799\n",
      "2.9204\n",
      "\n",
      "var with w = 15: 0.014095510000000002\n",
      "3.2175000000000002\n",
      "\n",
      "var with w = 16: 0.014386840000000007\n",
      "3.7376\n",
      "\n",
      "var with w = 17: 0.011074560000000002\n",
      "3.2368\n",
      "\n",
      "var with w = 18: 0.008820789999999998\n",
      "2.8836\n",
      "\n",
      "var with w = 19: 0.008329440000000002\n",
      "3.0324\n",
      "\n"
     ]
    }
   ],
   "source": [
    "for w in range(2,20):\n",
    "    prob_in = (d ** 2) * math.pi / (4 * w ** 2)\n",
    "\n",
    "    NUM = 10000\n",
    "    xs = np.random.random(NUM)\n",
    "    berns = xs < prob_in\n",
    "    \n",
    "    print(f\"var with w = {w}: {np.var(berns)}\")\n",
    "    print((4 * w ** 2) / (d ** 2) * (1/NUM) * np.sum(berns))\n",
    "    print()\n",
    "    "
   ]
  },
  {
   "cell_type": "code",
   "execution_count": null,
   "metadata": {},
   "outputs": [],
   "source": []
  }
 ],
 "metadata": {
  "kernelspec": {
   "display_name": "Python 3",
   "language": "python",
   "name": "python3"
  },
  "language_info": {
   "codemirror_mode": {
    "name": "ipython",
    "version": 3
   },
   "file_extension": ".py",
   "mimetype": "text/x-python",
   "name": "python",
   "nbconvert_exporter": "python",
   "pygments_lexer": "ipython3",
   "version": "3.6.8"
  }
 },
 "nbformat": 4,
 "nbformat_minor": 2
}
